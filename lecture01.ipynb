{
 "cells": [
  {
   "attachments": {},
   "cell_type": "markdown",
   "metadata": {},
   "source": [
    "### Introduction\n",
    "\n",
    "Since Python is an object-oriented programming language, everything in Python is an object, every integer, string, list, and function.<br>\n",
    "An object is an entity that contains data along with associated metadata or functionality; these data contained in an object are known as the object’s data attributes. Similarly, a class is a blueprint for that object.\n",
    "\n",
    "A class is like a blueprint, and an object is a concrete instantiation of that blueprint.\n",
    "\n",
    "### what can you do with class?\n",
    "\n",
    "- you can assign it to a variable\n",
    "- you can copy it\n",
    "- you can add attributes to it\n",
    "- you can pass it as a function parameter\n",
    "\n",
    "For more information have a look at [datamodel](https://docs.python.org/3/reference/datamodel.html).\n"
   ]
  },
  {
   "cell_type": "code",
   "execution_count": 11,
   "metadata": {},
   "outputs": [
    {
     "name": "stdout",
     "output_type": "stream",
     "text": [
      "danger\n"
     ]
    },
    {
     "data": {
      "text/plain": [
       "['__annotations__',\n",
       " '__builtins__',\n",
       " '__call__',\n",
       " '__class__',\n",
       " '__closure__',\n",
       " '__code__',\n",
       " '__defaults__',\n",
       " '__delattr__',\n",
       " '__dict__',\n",
       " '__dir__',\n",
       " '__doc__',\n",
       " '__eq__',\n",
       " '__format__',\n",
       " '__ge__',\n",
       " '__get__',\n",
       " '__getattribute__',\n",
       " '__globals__',\n",
       " '__gt__',\n",
       " '__hash__',\n",
       " '__init__',\n",
       " '__init_subclass__',\n",
       " '__kwdefaults__',\n",
       " '__le__',\n",
       " '__lt__',\n",
       " '__module__',\n",
       " '__name__',\n",
       " '__ne__',\n",
       " '__new__',\n",
       " '__qualname__',\n",
       " '__reduce__',\n",
       " '__reduce_ex__',\n",
       " '__repr__',\n",
       " '__setattr__',\n",
       " '__sizeof__',\n",
       " '__str__',\n",
       " '__subclasshook__',\n",
       " 'characteristic']"
      ]
     },
     "execution_count": 11,
     "metadata": {},
     "output_type": "execute_result"
    }
   ],
   "source": [
    "# function is a object. Didn't believe?\n",
    "square = lambda x: x**2\n",
    "# you can assign new attribute to it, see!\n",
    "square.characteristic = 'danger'\n",
    "print(square.characteristic)\n",
    "# dir returns the list of valid attributes of the passed object\n",
    "dir(square)\n",
    "# __something__ is called dunder (double underscore) method. "
   ]
  },
  {
   "cell_type": "code",
   "execution_count": 13,
   "metadata": {},
   "outputs": [
    {
     "name": "stdout",
     "output_type": "stream",
     "text": [
      "{'characteristic': 'danger'}\n"
     ]
    },
    {
     "data": {
      "text/plain": [
       "'square = lambda x: x**2\\n'"
      ]
     },
     "execution_count": 13,
     "metadata": {},
     "output_type": "execute_result"
    }
   ],
   "source": [
    "# The __dict__ in Python represents a dictionary or any mapping object \n",
    "# that is used to store the attributes of the object. \n",
    "print(square.__dict__) \n",
    "# Code objects are documented with the inspect module\n",
    "import inspect\n",
    "# Byte code instructions are documented with the dis module\n",
    "import dis\n",
    "inspect.getsource(square)\n",
    "# more at https://stackoverflow.com/a/47529318"
   ]
  },
  {
   "attachments": {},
   "cell_type": "markdown",
   "metadata": {},
   "source": [
    "You can define a class using `class` keyword. \n",
    "\n",
    "```py\n",
    "class Point:\n",
    "    pass\n",
    "```\n",
    "\n",
    "But didn't you want to store something in the class? Okay, let's store the x-coordiante and y-coordinate to the class.\n",
    "\n",
    "```py\n",
    "class Point:\n",
    "    x = 1\n",
    "    y = 1\n",
    "```\n",
    "\n",
    "Now if you generate a object from this class then the object will also have these data. Let's see,\n",
    "\n",
    "```py\n",
    "obj = Point()\n",
    "print(f'{obj.x},{obj.y}') # print those coordinates\n",
    "```\n",
    "\n",
    "But if we write those data manually then what's the point of class? Exactly, let's give it a power to generate data from user.\n",
    "\n",
    "```py\n",
    "class Point:\n",
    "    def __init__(self,x,y):\n",
    "        self.x = x\n",
    "        self.y = y\n",
    "```\n",
    "\n",
    "Now, you can generate a object using your own data. Like `obj=Point(1,1)`. Wait a minute, what is `__init__`? To be honest, its a function which run whenever you initiate the object from your custom data using the class (This is not the true history, but for now believe on me :) ). \n",
    "\n",
    "Then what is `self` indicate here? We only pass two positional argument `Point(1,1)` then why there is three parameters in `__init__(self,x,y)`?\n",
    "\n",
    "To understand this, let's create a method (actually a function which was written inside class). \n",
    "\n",
    "```py\n",
    "class Point:\n",
    "    def __init__(self,x,y):\n",
    "        self.x = x\n",
    "        self.y = y\n",
    "    def show_coord(self):\n",
    "        print(f'({self.x},{self.y})')\n",
    "obj = Point(1,1)\n",
    "obj.show_coord()\n",
    "```\n",
    "\n",
    "hurrah! it shows our data. Here the `Point` class contain a method `show_coord` and `obj` is an instance of this class. Now when `obj.show_coord()` is called, python internally converts it for you as `Point.show_coord(obj)`. See, `self` refer the object itself. Complicated right? Don't worry, we will understand it better while creating our own custom datatype.\n",
    "\n",
    "\n",
    "\n"
   ]
  },
  {
   "cell_type": "code",
   "execution_count": 21,
   "metadata": {},
   "outputs": [
    {
     "name": "stdout",
     "output_type": "stream",
     "text": [
      "(1,1)\n"
     ]
    }
   ],
   "source": [
    "class Point:\n",
    "    def __init__(self,x,y):\n",
    "        self.x = x\n",
    "        self.y = y\n",
    "    def __str__(self):\n",
    "        return f'({self.x},{self.y})'\n",
    "\n",
    "obj = Point(1,1)\n"
   ]
  },
  {
   "attachments": {},
   "cell_type": "markdown",
   "metadata": {},
   "source": [
    "> Task 01: Why `__str__` method needed for `int`? Explore other dunder method like `__call__,__dict__,__code__`."
   ]
  },
  {
   "cell_type": "code",
   "execution_count": 23,
   "metadata": {},
   "outputs": [
    {
     "data": {
      "text/plain": [
       "type"
      ]
     },
     "execution_count": 23,
     "metadata": {},
     "output_type": "execute_result"
    }
   ],
   "source": [
    "# TODO give a basic idea of metaclass\n",
    "# who create classes? -> metaclass\n",
    "a = 10\n",
    "a.__class__.__class__"
   ]
  },
  {
   "attachments": {},
   "cell_type": "markdown",
   "metadata": {},
   "source": [
    "You might be thinking is there any way to create method at runtime? I know you won't think this but I am interested to share this :p <br> Yes, It is possible. \n",
    "\n",
    "```py\n",
    "class Point:\n",
    "    def __init__(self,x,y):\n",
    "        self.x = x\n",
    "        self.y = y\n",
    "from types import MethodType\n",
    "obj = Point(1,1)\n",
    "obj.show_coord = MethodType(lambda self:\\\n",
    "    print(f'({self.x},{self.y})'),obj)\n",
    "obj.show_coord()\n",
    "```\n"
   ]
  },
  {
   "cell_type": "code",
   "execution_count": 24,
   "metadata": {},
   "outputs": [
    {
     "name": "stdout",
     "output_type": "stream",
     "text": [
      "(1,1)\n"
     ]
    }
   ],
   "source": [
    "from types import MethodType\n",
    "class Point:\n",
    "    def __init__(self,x,y):\n",
    "        self.x = x\n",
    "        self.y = y\n",
    "obj = Point(1,1)\n",
    "\n",
    "\n",
    "\n",
    "obj.show_coord = MethodType(lambda self:\\\n",
    "    print(f'({self.x},{self.y})'),obj)\n",
    "\n",
    "obj.show_coord()"
   ]
  },
  {
   "cell_type": "code",
   "execution_count": 27,
   "metadata": {},
   "outputs": [
    {
     "name": "stdout",
     "output_type": "stream",
     "text": [
      "0x1f6d1185630\n",
      "<__main__.Point object at 0x000001F6D1185630>\n"
     ]
    }
   ],
   "source": [
    "print(hex(id(obj)))\n",
    "print(obj)"
   ]
  },
  {
   "attachments": {},
   "cell_type": "markdown",
   "metadata": {},
   "source": [
    "### Create your own datatype\n",
    "\n",
    "Like `int`, `str` we can create our own datatype. Let's continue with our Coordinate class. In order to, add, substract and compare the coordinate we must give the class some magic. Yes, here come dunder method again. This called operator overloading. "
   ]
  },
  {
   "cell_type": "code",
   "execution_count": 28,
   "metadata": {},
   "outputs": [
    {
     "name": "stdout",
     "output_type": "stream",
     "text": [
      "False\n",
      "True\n"
     ]
    },
    {
     "data": {
      "text/plain": [
       "mappingproxy({'__module__': '__main__',\n",
       "              '__init__': <function __main__.Point.__init__(self, x, y)>,\n",
       "              '__eq__': <function __main__.Point.__eq__(self, obj2)>,\n",
       "              '__dict__': <attribute '__dict__' of 'Point' objects>,\n",
       "              '__weakref__': <attribute '__weakref__' of 'Point' objects>,\n",
       "              '__doc__': None,\n",
       "              '__hash__': None})"
      ]
     },
     "execution_count": 28,
     "metadata": {},
     "output_type": "execute_result"
    }
   ],
   "source": [
    "from __future__ import annotations\n",
    "from typing import Type\n",
    "\n",
    "class Point:\n",
    "    def __init__(self,x,y):\n",
    "        self.x = x\n",
    "        self.y = y\n",
    "\n",
    "        \n",
    "    def __eq__(self, obj2):\n",
    "        return (self.x == obj2.x) & (self.y == obj2.y)\n",
    "\n",
    "A = Point(0,1)\n",
    "B = Point(1,1)\n",
    "C = Point(0,1)\n",
    "\n",
    "\n",
    "print(A == B)\n",
    "print(A == C)\n",
    "Point.__dict__"
   ]
  },
  {
   "attachments": {},
   "cell_type": "markdown",
   "metadata": {},
   "source": [
    "Actually when we compare object A and B, under the hood, python do `Point.__eq__(A,B)`. \n",
    "\n",
    "> Task 2: Now complete the code for other operator. Like `A-B`,`A+B`,`A>B` and `A<B`. \n",
    "\n",
    "\n",
    "<details>\n",
    "  <summary>Hints</summary>\n",
    "  \n",
    "  Implement `__sub__`,`__add__`,`__gt__` and `__lt__` dunder method\n",
    "  \n",
    "</details>"
   ]
  },
  {
   "attachments": {},
   "cell_type": "markdown",
   "metadata": {},
   "source": [
    "## Lecture - 02 Loading... \n",
    "\n",
    "### Abstract Base Class (abc)\n",
    "\n",
    "A class is called an Abstract class if it contains one or more abstract methods. An abstract method is a method that is declared, but contains no implementation. Abstract classes may not be instantiated, and its abstract methods must be implemented by its subclasses (otherwise it gives error). Abstract base classes provide a way to define interfaces.\n",
    "\n",
    "- abstract method is a method which only has declaration and doesn't have definition.\n",
    "- a class is called abstract class only if it has at least one abstract method.\n",
    "- when you inherit a abstract class as a parent to the child class, the child class should define all the abstract method present in parent class.\n",
    "- if it is not done then child class also becomes abstract class automatically.\n",
    "- python by default doesn't support abstract class and abstract method, so there is a package called ABC(abstract base classes) by which we can make a class or method abstract.\n",
    "\n",
    "Use the following abstract class to create your `Point` datatype.\n",
    "\n",
    "```py\n",
    "from abc import ABC,abstractmethod\n",
    "class Coord(ABC):\n",
    "    @abstractmethod\n",
    "    def __init__(self,x,y):\n",
    "        pass\n",
    "    @abstractmethod\n",
    "    def __eq__(self,obj):\n",
    "        pass\n",
    "    @abstractmethod\n",
    "    def __add__(self,obj):\n",
    "        pass\n",
    "    @abstractmethod\n",
    "    def __sub__(self,obj):\n",
    "        pass\n",
    "    @abstractmethod\n",
    "    def __gt__(self,obj):\n",
    "        pass \n",
    "    @abstractmethod\n",
    "    def __lt__(self,obj):\n",
    "        pass   \n",
    "```\n",
    "\n",
    "> `typing` module provides runtime support for type hints."
   ]
  },
  {
   "attachments": {},
   "cell_type": "markdown",
   "metadata": {},
   "source": [
    "### Read-Only Attributes\n",
    "\n",
    "Properties are special kind of attributes which have getter, setter and delete methods like `__get__`, `__set__` and `__delete__` methods.\n",
    "\n",
    "However, there is a property decorator (`@property`) in Python which provides getter/setter (`@prop_name.setter,@prop_name.deleter`) access to an attribute Properties are a special kind of attributes.\n",
    "\n",
    "```py\n",
    "class Point:\n",
    "    def __init__(self, x, y):\n",
    "        self._x = x\n",
    "        self._y = y\n",
    "\n",
    "    @property\n",
    "    def x(self):\n",
    "        return self._x\n",
    "\n",
    "    @property\n",
    "    def y(self):\n",
    "        return self._y\n",
    "```"
   ]
  },
  {
   "attachments": {},
   "cell_type": "markdown",
   "metadata": {},
   "source": [
    "### Inheritance\n",
    "\n",
    "In inheritance, child class inherits the attributes and methods of a parent class. The existing class is called a base class or parent class, and the new class is called a subclass or child class or derived class."
   ]
  },
  {
   "cell_type": "code",
   "execution_count": null,
   "metadata": {},
   "outputs": [],
   "source": [
    "A = Point(1,1)\n",
    "len(A) # -> guess the result?"
   ]
  },
  {
   "attachments": {},
   "cell_type": "markdown",
   "metadata": {},
   "source": [
    "### Polymorphism\n",
    "\n",
    "Polymorphism refers to the use of a single type entity (method, operator or object) to represent different types in different scenarios. Python is polymorphic.\n",
    "\n",
    "- Operator Polymorphism\n",
    "- Function Polymorphism\n",
    "- Class and Method Polymorphism\n",
    "    - method overriding"
   ]
  },
  {
   "attachments": {},
   "cell_type": "markdown",
   "metadata": {},
   "source": [
    "### Decorator\n",
    "\n",
    "```\n",
    "decorator(fn) -> closure\n",
    "```\n",
    "\n",
    "> Task 3: Create a simple decorator which simulate `@functools.lru_cache`"
   ]
  }
 ],
 "metadata": {
  "kernelspec": {
   "display_name": "Python 3",
   "language": "python",
   "name": "python3"
  },
  "language_info": {
   "codemirror_mode": {
    "name": "ipython",
    "version": 3
   },
   "file_extension": ".py",
   "mimetype": "text/x-python",
   "name": "python",
   "nbconvert_exporter": "python",
   "pygments_lexer": "ipython3",
   "version": "3.10.5"
  },
  "orig_nbformat": 4,
  "vscode": {
   "interpreter": {
    "hash": "2bfa7a16b91e715a4108a9b148edd0832f3428c3d41335fc245270b6a1ea554f"
   }
  }
 },
 "nbformat": 4,
 "nbformat_minor": 2
}
