{
 "cells": [
  {
   "attachments": {},
   "cell_type": "markdown",
   "metadata": {},
   "source": [
    "### Intro\n",
    "\n",
    "Since Python is an object-oriented programming language, everything in Python is an object, every integer, string, list, and function.<br>\n",
    "An object is an entity that contains data along with associated metadata or functionality; these data contained in an object are known as the object’s data attributes. Similarly, a class is a blueprint for that object.\n",
    "\n",
    "### what can you do with class?\n",
    "\n",
    "- you can assign it to a variable\n",
    "- you can copy it\n",
    "- you can add attributes to it\n",
    "- you can pass it as a function parameter\n",
    "\n",
    "For more information have a look at [datamodel](https://docs.python.org/3/reference/datamodel.html).\n"
   ]
  },
  {
   "cell_type": "code",
   "execution_count": 21,
   "metadata": {},
   "outputs": [
    {
     "name": "stdout",
     "output_type": "stream",
     "text": [
      "['__annotations__', '__builtins__', '__call__', '__class__', '__closure__', '__code__', '__defaults__', '__delattr__', '__dict__', '__dir__', '__doc__', '__eq__', '__format__', '__ge__', '__get__']\n"
     ]
    }
   ],
   "source": [
    "# function is a object. Didn't believe?\n",
    "square = lambda x: x^2\n",
    "# you can assign new attribute to it, see!\n",
    "square.characteristic = 'danger'\n",
    "square.characteristic\n",
    "# dir returns the list of valid attributes of the passed object\n",
    "dir(square)[:15]\n",
    "# __something__ is called dunder (double underscore) method. "
   ]
  },
  {
   "attachments": {},
   "cell_type": "markdown",
   "metadata": {},
   "source": [
    "You can define a class using `class` keyword. \n",
    "\n",
    "```py\n",
    "class Point:\n",
    "    pass\n",
    "```\n",
    "\n",
    "But didn't you want to store something in the class? Okay, let's store the x-coordiante and y-coordinate to the class.\n",
    "\n",
    "```py\n",
    "class Point:\n",
    "    x = 1\n",
    "    y = 1\n",
    "```\n",
    "\n",
    "Now if you generate a object from this class then the object will also have these data. Let's see,\n",
    "\n",
    "```py\n",
    "obj = Point()\n",
    "print(f'{obj.x},{obj.y}') # print those coordinates\n",
    "```\n",
    "\n",
    "But if we write those data manually then what's the point of class? Exactly, let's give it a power to generate data from user.\n",
    "\n",
    "```py\n",
    "class Point:\n",
    "    def __init__(self,x,y):\n",
    "        self.x = x\n",
    "        self.y = y\n",
    "```\n",
    "\n",
    "Now, you can generate a object using your own data. Like `obj=Point(1,1)`. Wait a minute, what is `__init__`? To be honest, its a function which run whenever you initiate the object from your custom data using the class (This is not the true history, but for now believe on me :) ). \n",
    "\n",
    "Then what is `self` indicate here? We only pass two positional argument `Point(1,1)` then why there is three parameters in `__init__(self,x,y)`?\n",
    "\n",
    "To understand this, let's create a method (actually a function which was written inside class). \n",
    "\n",
    "```py\n",
    "class Point:\n",
    "    def __init__(self,x,y):\n",
    "        self.x = x\n",
    "        self.y = y\n",
    "    def show_coord(self):\n",
    "        print(f'({self.x},{self.y})')\n",
    "obj = Point(1,1)\n",
    "obj.show_coord()\n",
    "```\n",
    "\n",
    "hurrah! it shows our data. Here the `Point` class contain a method `show_coord` and `obj` is an instance of this class. Now when `obj.show_coord()` is called, python internally converts it for you as `Point.show_coord(obj)`. See, `self` refer the object itself. Complicated right? Don't worry, we will understand it better while creating our own custom datatype.\n",
    "\n",
    "\n",
    "\n"
   ]
  },
  {
   "attachments": {},
   "cell_type": "markdown",
   "metadata": {},
   "source": [
    "> Task 01: Why `__str__` method needed for `int`? Explore other dunder method like `__call__,__dict__,__code__`."
   ]
  },
  {
   "cell_type": "code",
   "execution_count": 54,
   "metadata": {},
   "outputs": [
    {
     "data": {
      "text/plain": [
       "type"
      ]
     },
     "execution_count": 54,
     "metadata": {},
     "output_type": "execute_result"
    }
   ],
   "source": [
    "# TODO give a basic idea of metaclass\n",
    "# who create classes? -> metaclass\n",
    "a = 10\n",
    "a.__class__.__class__"
   ]
  },
  {
   "attachments": {},
   "cell_type": "markdown",
   "metadata": {},
   "source": [
    "You might be thinking is there any way to create method at runtime? I know you won't think this but I am interested to share this :p <br> Yes, It is possible. \n",
    "\n",
    "```py\n",
    "class Point:\n",
    "    def __init__(self,x,y):\n",
    "        self.x = x\n",
    "        self.y = y\n",
    "from types import MethodType\n",
    "obj = Point(1,1)\n",
    "obj.show_coord = MethodType(lambda self:\\\n",
    "    print(f'({self.x},{self.y})'),obj)\n",
    "obj.show_coord()\n",
    "```\n"
   ]
  },
  {
   "attachments": {},
   "cell_type": "markdown",
   "metadata": {},
   "source": [
    "### Create your own datatype\n",
    "\n",
    "Like `int`, `str` we can create our own datatype. Let's continue with our Coordinate class. In order to, add, substract and compare the coordinate we must give the class some magic. Yes, here come dunder method again. This called operator overloading. "
   ]
  },
  {
   "cell_type": "code",
   "execution_count": 70,
   "metadata": {},
   "outputs": [
    {
     "name": "stdout",
     "output_type": "stream",
     "text": [
      "False\n"
     ]
    },
    {
     "data": {
      "text/plain": [
       "True"
      ]
     },
     "execution_count": 70,
     "metadata": {},
     "output_type": "execute_result"
    }
   ],
   "source": [
    "class Point:\n",
    "    def __init__(self,x,y):\n",
    "        self.x = x\n",
    "        self.y = y\n",
    "    def __eq__(self, obj2: object):\n",
    "        return (self.x == obj2.x) & (self.y == obj2.y)\n",
    "A = Point(0,1)\n",
    "B = Point(1,1)\n",
    "C = Point(0,1)\n",
    "print(A == B)\n",
    "print(A == C)"
   ]
  },
  {
   "attachments": {},
   "cell_type": "markdown",
   "metadata": {},
   "source": [
    "Actually when we compare object A and B, under the hood, python do `Point.__eq__(A,B)`. \n",
    "\n",
    "> Task 2: Now complete the code for other operator. Like `A-B`,`A+B`,`A>B` and `A<B`. \n",
    "\n",
    "\n",
    "<details>\n",
    "  <summary>Hints</summary>\n",
    "  \n",
    "  Implement `__sub__`,`__add__`,`__gt__` and `__lt__` dunder method\n",
    "  \n",
    "</details>"
   ]
  }
 ],
 "metadata": {
  "kernelspec": {
   "display_name": "Python 3",
   "language": "python",
   "name": "python3"
  },
  "language_info": {
   "codemirror_mode": {
    "name": "ipython",
    "version": 3
   },
   "file_extension": ".py",
   "mimetype": "text/x-python",
   "name": "python",
   "nbconvert_exporter": "python",
   "pygments_lexer": "ipython3",
   "version": "3.10.5"
  },
  "orig_nbformat": 4,
  "vscode": {
   "interpreter": {
    "hash": "2bfa7a16b91e715a4108a9b148edd0832f3428c3d41335fc245270b6a1ea554f"
   }
  }
 },
 "nbformat": 4,
 "nbformat_minor": 2
}
